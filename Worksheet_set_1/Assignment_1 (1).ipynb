{
 "cells": [
  {
   "cell_type": "markdown",
   "id": "2ed71599",
   "metadata": {},
   "source": [
    "# Python Assignment"
   ]
  },
  {
   "cell_type": "markdown",
   "id": "4ae95c69",
   "metadata": {},
   "source": [
    "1. To find the factorial of a number"
   ]
  },
  {
   "cell_type": "code",
   "execution_count": 8,
   "id": "b36644ca",
   "metadata": {},
   "outputs": [
    {
     "name": "stdout",
     "output_type": "stream",
     "text": [
      "Please enter a number for finding factorial5\n",
      "The factorial is 5 = 120\n"
     ]
    }
   ],
   "source": [
    "number=int(input(\"Please enter a number for finding factorial\"))\n",
    "factorial=1\n",
    "for i in range(1,number + 1):\n",
    "    factorial=factorial *i\n",
    "print(\"The factorial is %d = %d\" %(number, factorial))"
   ]
  },
  {
   "cell_type": "markdown",
   "id": "17537fb4",
   "metadata": {},
   "source": [
    "2. To find whether a number is prime or composite"
   ]
  },
  {
   "cell_type": "code",
   "execution_count": 9,
   "id": "00a95612",
   "metadata": {},
   "outputs": [
    {
     "name": "stdout",
     "output_type": "stream",
     "text": [
      "Enter a number: 3\n",
      "3 is a prime number\n"
     ]
    }
   ],
   "source": [
    "num = int(input(\"Enter a number: \"))\n",
    "flag = False\n",
    "if num > 1:\n",
    "    for i in range(2, num):\n",
    "        if (num % i) == 0:\n",
    "            flag = True\n",
    "            break\n",
    "if flag:\n",
    "    print(num, \"is a composite number\")\n",
    "else:\n",
    "    print(num, \"is a prime number\")"
   ]
  },
  {
   "cell_type": "markdown",
   "id": "71e492e3",
   "metadata": {},
   "source": [
    "3. To find a string is palindrome or not"
   ]
  },
  {
   "cell_type": "code",
   "execution_count": 10,
   "id": "aacb787c",
   "metadata": {},
   "outputs": [
    {
     "name": "stdout",
     "output_type": "stream",
     "text": [
      "Enter a string:aba\n",
      "String is palindrome\n"
     ]
    }
   ],
   "source": [
    "strings = input(\"Enter a string:\")\n",
    "if (strings==strings[::-1]):\n",
    "    print(\"String is palindrome\")\n",
    "else:\n",
    "    print(\"String is not palindrome\")"
   ]
  },
  {
   "cell_type": "markdown",
   "id": "a737f8ce",
   "metadata": {},
   "source": [
    "4. To find third side of right-angled triangle from two given sides"
   ]
  },
  {
   "cell_type": "code",
   "execution_count": 1,
   "id": "4b462393",
   "metadata": {},
   "outputs": [
    {
     "ename": "IndentationError",
     "evalue": "unexpected indent (<ipython-input-1-0df122df675d>, line 4)",
     "output_type": "error",
     "traceback": [
      "\u001b[1;36m  File \u001b[1;32m\"<ipython-input-1-0df122df675d>\"\u001b[1;36m, line \u001b[1;32m4\u001b[0m\n\u001b[1;33m    if opposite_side == x:\u001b[0m\n\u001b[1;37m    ^\u001b[0m\n\u001b[1;31mIndentationError\u001b[0m\u001b[1;31m:\u001b[0m unexpected indent\n"
     ]
    }
   ],
   "source": [
    "opposite_side= (input(\"Enter opposite_side\"))\n",
    "adjacent_side= (input(\"Enter adjacent_side\"))\n",
    "Hypotenuse= (input(\"Enter Hypotenuse\"))\n",
    "        if opposite_side == x:\n",
    "            return (\"Opposite = \" + str(((hypotenuse**2) - (adjacent_side**2))**0.5))\n",
    "        elif adjacent_side == x:\n",
    "            return (\"Adjacent = \" + str(((hypotenuse**2) - (opposite_side**2))**0.5))\n",
    "        elif hypotenuse == x:\n",
    "            return (\"Hypotenuse = \" + str(((opposite_side**2) + (adjacent_side**2))**0.5))\n",
    "        else:\n",
    "            return \"Third side of the triangle is\"\n",
    "    \n",
    "\n"
   ]
  },
  {
   "cell_type": "markdown",
   "id": "2c0a219f",
   "metadata": {},
   "source": [
    "5. To find the frequency of each of the characters present in a given string"
   ]
  },
  {
   "cell_type": "code",
   "execution_count": 12,
   "id": "f7bba5bb",
   "metadata": {},
   "outputs": [
    {
     "name": "stdout",
     "output_type": "stream",
     "text": [
      "enter a string : surprise present\n",
      "Char frequency in 'surprise present' is :\n",
      " {'s': 3, 'u': 1, 'r': 3, 'p': 2, 'i': 1, 'e': 3, ' ': 1, 'n': 1, 't': 1}\n"
     ]
    }
   ],
   "source": [
    "input_string = input(\"enter a string : \")\n",
    "frequencies = {} \n",
    "  \n",
    "for char in input_string: \n",
    "   if char in frequencies: \n",
    "      frequencies[char] += 1\n",
    "   else: \n",
    "      frequencies[char] = 1\n",
    "print (\"Char frequency in '{}' is :\\n {}\".format(input_string, str(frequencies)))"
   ]
  },
  {
   "cell_type": "code",
   "execution_count": null,
   "id": "a77a2d3c",
   "metadata": {},
   "outputs": [],
   "source": []
  }
 ],
 "metadata": {
  "kernelspec": {
   "display_name": "Python 3",
   "language": "python",
   "name": "python3"
  },
  "language_info": {
   "codemirror_mode": {
    "name": "ipython",
    "version": 3
   },
   "file_extension": ".py",
   "mimetype": "text/x-python",
   "name": "python",
   "nbconvert_exporter": "python",
   "pygments_lexer": "ipython3",
   "version": "3.8.8"
  }
 },
 "nbformat": 4,
 "nbformat_minor": 5
}
